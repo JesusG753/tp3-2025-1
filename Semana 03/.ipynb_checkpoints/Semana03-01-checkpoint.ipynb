{
 "cells": [
  {
   "cell_type": "markdown",
   "id": "7dc3bd75-cefa-44c1-8bdb-0cba75b37257",
   "metadata": {},
   "source": [
    "# SEMANA 03\n",
    "Jesus Inocencio Lopez Rodriguez"
   ]
  },
  {
   "cell_type": "markdown",
   "id": "6859fcd5-1eba-4a58-8fb9-d8e38288d24a",
   "metadata": {},
   "source": [
    "# Temas \n",
    "1. Colección de Datos\n",
    "2. Estructuras Decisivas y Estructuras Repetitivas\n",
    "3. Clases y Objetos\n",
    "4. Funciones"
   ]
  },
  {
   "cell_type": "markdown",
   "id": "ebf314f4-ac42-43c4-9cdf-d6ea270b2abf",
   "metadata": {},
   "source": [
    "# 1.Colecciones"
   ]
  },
  {
   "cell_type": "code",
   "execution_count": 6,
   "id": "40cad72b-1630-4bf8-9714-2eb996251b07",
   "metadata": {},
   "outputs": [
    {
     "name": "stdout",
     "output_type": "stream",
     "text": [
      "['Bernaola', 'Chipana', 'Gomez', 'Navarro']\n"
     ]
    }
   ],
   "source": [
    "# 1.1 Listas\n",
    "# Es una colección de elementos que puede ser ordenada, modificada, etc..\n",
    "# Se identifica por los corchetes\n",
    "# Ejemplo:\n",
    "aula = ['Bernaola','Chipana','Gomez','Navarro']\n",
    "print(aula)"
   ]
  },
  {
   "cell_type": "code",
   "execution_count": 8,
   "id": "e1a42fa2-59aa-4107-8038-eb42a488aa51",
   "metadata": {},
   "outputs": [
    {
     "data": {
      "text/plain": [
       "['Bernaola', 'Chipana', 'Gomez', 'Navarro']"
      ]
     },
     "execution_count": 8,
     "metadata": {},
     "output_type": "execute_result"
    }
   ],
   "source": [
    "# También se puede imprimir con solo mencionar la lista\n",
    "aula"
   ]
  },
  {
   "cell_type": "code",
   "execution_count": 16,
   "id": "89c89489-360e-42ab-85d4-f090b9cdf049",
   "metadata": {},
   "outputs": [
    {
     "name": "stdout",
     "output_type": "stream",
     "text": [
      "Bernaola\n",
      "Chavez\n",
      "Gomez\n",
      "Navarro\n"
     ]
    }
   ],
   "source": [
    "# Podemos extraer cada elemento por su posición\n",
    "print(aula[0])\n",
    "print(aula[1])\n",
    "print(aula[2])\n",
    "print(aula[3])"
   ]
  },
  {
   "cell_type": "code",
   "execution_count": 18,
   "id": "687cd26e-9d13-4339-bfcc-32b3a65945e0",
   "metadata": {},
   "outputs": [
    {
     "data": {
      "text/plain": [
       "'Chavez'"
      ]
     },
     "execution_count": 18,
     "metadata": {},
     "output_type": "execute_result"
    }
   ],
   "source": [
    "# Puedo asignar un valor a una posición de la lista\n",
    "aula[1] = 'Chavez'\n",
    "aula[1]"
   ]
  },
  {
   "cell_type": "code",
   "execution_count": 20,
   "id": "b2f70b02-a965-43f7-8c8c-c4495c4408cd",
   "metadata": {},
   "outputs": [
    {
     "data": {
      "text/plain": [
       "['Bernaola', 'Chavez', 'Gomez', 'Navarro']"
      ]
     },
     "execution_count": 20,
     "metadata": {},
     "output_type": "execute_result"
    }
   ],
   "source": [
    "# Mostramos como quedó la lista\n",
    "aula"
   ]
  },
  {
   "cell_type": "code",
   "execution_count": 22,
   "id": "d26e5a49-c524-4456-8756-d86f757f7f14",
   "metadata": {},
   "outputs": [
    {
     "data": {
      "text/plain": [
       "['Bernaola', 'Chavez', 'Gomez', 'Navarro', 'Hermitaño', 'Gomez']"
      ]
     },
     "execution_count": 22,
     "metadata": {},
     "output_type": "execute_result"
    }
   ],
   "source": [
    "# Para agregar un elemento utilizamos append\n",
    "aula.append(\"Hermitaño\")\n",
    "aula.append(\"Gomez\")\n",
    "aula"
   ]
  },
  {
   "cell_type": "code",
   "execution_count": 24,
   "id": "ef8ad651-92c2-4423-b945-c1a386d79d70",
   "metadata": {},
   "outputs": [
    {
     "data": {
      "text/plain": [
       "['Chavez', 'Gomez', 'Navarro', 'Hermitaño', 'Gomez']"
      ]
     },
     "execution_count": 24,
     "metadata": {},
     "output_type": "execute_result"
    }
   ],
   "source": [
    "# Para eliminar elementos utilizamos remove[]\n",
    "aula.remove(\"Bernaola\")\n",
    "aula"
   ]
  },
  {
   "cell_type": "code",
   "execution_count": 26,
   "id": "4561f53c-6aa7-41d6-9b9f-d65e98ab85ed",
   "metadata": {},
   "outputs": [
    {
     "data": {
      "text/plain": [
       "['Chavez', 'Navarro', 'Hermitaño', 'Gomez']"
      ]
     },
     "execution_count": 26,
     "metadata": {},
     "output_type": "execute_result"
    }
   ],
   "source": [
    "# Si hubiera varios elementos de valores iguales se elimina la primera coincidencia\n",
    "aula.remove(\"Gomez\")\n",
    "aula"
   ]
  },
  {
   "cell_type": "code",
   "execution_count": null,
   "id": "70d78d50-9a9a-423f-b606-eb01ece45d49",
   "metadata": {},
   "outputs": [],
   "source": []
  }
 ],
 "metadata": {
  "kernelspec": {
   "display_name": "Python [conda env:base] *",
   "language": "python",
   "name": "conda-base-py"
  },
  "language_info": {
   "codemirror_mode": {
    "name": "ipython",
    "version": 3
   },
   "file_extension": ".py",
   "mimetype": "text/x-python",
   "name": "python",
   "nbconvert_exporter": "python",
   "pygments_lexer": "ipython3",
   "version": "3.12.7"
  }
 },
 "nbformat": 4,
 "nbformat_minor": 5
}
