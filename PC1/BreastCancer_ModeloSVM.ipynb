{
 "cells": [
  {
   "cell_type": "markdown",
   "id": "074b8671-96fd-4a5b-a0c5-d0e4f022f158",
   "metadata": {},
   "source": [
    "# Nombres:\n",
    "Lopez Rodriguez Jesus Inocencio --\n",
    "Alaluna Godinez Mauricio Antonio"
   ]
  },
  {
   "cell_type": "markdown",
   "id": "3a241f74-faa4-4b86-9d33-b879103f2184",
   "metadata": {},
   "source": [
    "# Comentarios sobre el modelo\n",
    "El modelo SVM aunque la gráfica no diga mucho debido a que los datos no son tan dispersos, en cuanto a la predicción ha sido el más acertado para identificar si el cáncer es recurrente posterior al tratamiento, sin embargo para predicir los casos negativos, solo tiene una precisión del 64%, además que nos resulta extraño el que la precisión sea del 100%, es posible que haya un error o la aproximación sea de un 99.9%."
   ]
  },
  {
   "cell_type": "code",
   "execution_count": 1,
   "id": "05bdb8c4-7adc-4c02-adb4-ee1a8ecd324c",
   "metadata": {},
   "outputs": [
    {
     "data": {
      "text/html": [
       "<div>\n",
       "<style scoped>\n",
       "    .dataframe tbody tr th:only-of-type {\n",
       "        vertical-align: middle;\n",
       "    }\n",
       "\n",
       "    .dataframe tbody tr th {\n",
       "        vertical-align: top;\n",
       "    }\n",
       "\n",
       "    .dataframe thead th {\n",
       "        text-align: right;\n",
       "    }\n",
       "</style>\n",
       "<table border=\"1\" class=\"dataframe\">\n",
       "  <thead>\n",
       "    <tr style=\"text-align: right;\">\n",
       "      <th></th>\n",
       "      <th>Class</th>\n",
       "      <th>age</th>\n",
       "      <th>menopause</th>\n",
       "      <th>tumor-size</th>\n",
       "      <th>inv-nodes</th>\n",
       "      <th>node-caps</th>\n",
       "      <th>deg-malig</th>\n",
       "      <th>breast</th>\n",
       "      <th>breast-quad</th>\n",
       "      <th>irradiat</th>\n",
       "    </tr>\n",
       "  </thead>\n",
       "  <tbody>\n",
       "    <tr>\n",
       "      <th>0</th>\n",
       "      <td>0</td>\n",
       "      <td>2</td>\n",
       "      <td>3</td>\n",
       "      <td>7</td>\n",
       "      <td>1</td>\n",
       "      <td>2</td>\n",
       "      <td>3</td>\n",
       "      <td>1</td>\n",
       "      <td>2</td>\n",
       "      <td>2</td>\n",
       "    </tr>\n",
       "    <tr>\n",
       "      <th>1</th>\n",
       "      <td>0</td>\n",
       "      <td>3</td>\n",
       "      <td>3</td>\n",
       "      <td>5</td>\n",
       "      <td>1</td>\n",
       "      <td>2</td>\n",
       "      <td>2</td>\n",
       "      <td>2</td>\n",
       "      <td>3</td>\n",
       "      <td>2</td>\n",
       "    </tr>\n",
       "    <tr>\n",
       "      <th>2</th>\n",
       "      <td>0</td>\n",
       "      <td>3</td>\n",
       "      <td>3</td>\n",
       "      <td>5</td>\n",
       "      <td>1</td>\n",
       "      <td>2</td>\n",
       "      <td>2</td>\n",
       "      <td>1</td>\n",
       "      <td>2</td>\n",
       "      <td>2</td>\n",
       "    </tr>\n",
       "    <tr>\n",
       "      <th>3</th>\n",
       "      <td>0</td>\n",
       "      <td>5</td>\n",
       "      <td>2</td>\n",
       "      <td>4</td>\n",
       "      <td>1</td>\n",
       "      <td>2</td>\n",
       "      <td>2</td>\n",
       "      <td>2</td>\n",
       "      <td>1</td>\n",
       "      <td>2</td>\n",
       "    </tr>\n",
       "    <tr>\n",
       "      <th>4</th>\n",
       "      <td>0</td>\n",
       "      <td>3</td>\n",
       "      <td>3</td>\n",
       "      <td>1</td>\n",
       "      <td>1</td>\n",
       "      <td>2</td>\n",
       "      <td>2</td>\n",
       "      <td>2</td>\n",
       "      <td>4</td>\n",
       "      <td>2</td>\n",
       "    </tr>\n",
       "    <tr>\n",
       "      <th>5</th>\n",
       "      <td>0</td>\n",
       "      <td>5</td>\n",
       "      <td>2</td>\n",
       "      <td>4</td>\n",
       "      <td>1</td>\n",
       "      <td>2</td>\n",
       "      <td>2</td>\n",
       "      <td>1</td>\n",
       "      <td>2</td>\n",
       "      <td>2</td>\n",
       "    </tr>\n",
       "    <tr>\n",
       "      <th>6</th>\n",
       "      <td>0</td>\n",
       "      <td>4</td>\n",
       "      <td>3</td>\n",
       "      <td>6</td>\n",
       "      <td>1</td>\n",
       "      <td>2</td>\n",
       "      <td>2</td>\n",
       "      <td>1</td>\n",
       "      <td>2</td>\n",
       "      <td>2</td>\n",
       "    </tr>\n",
       "    <tr>\n",
       "      <th>7</th>\n",
       "      <td>0</td>\n",
       "      <td>5</td>\n",
       "      <td>2</td>\n",
       "      <td>5</td>\n",
       "      <td>1</td>\n",
       "      <td>2</td>\n",
       "      <td>1</td>\n",
       "      <td>1</td>\n",
       "      <td>2</td>\n",
       "      <td>2</td>\n",
       "    </tr>\n",
       "    <tr>\n",
       "      <th>8</th>\n",
       "      <td>0</td>\n",
       "      <td>3</td>\n",
       "      <td>3</td>\n",
       "      <td>11</td>\n",
       "      <td>1</td>\n",
       "      <td>2</td>\n",
       "      <td>2</td>\n",
       "      <td>1</td>\n",
       "      <td>2</td>\n",
       "      <td>2</td>\n",
       "    </tr>\n",
       "    <tr>\n",
       "      <th>9</th>\n",
       "      <td>0</td>\n",
       "      <td>3</td>\n",
       "      <td>3</td>\n",
       "      <td>5</td>\n",
       "      <td>1</td>\n",
       "      <td>2</td>\n",
       "      <td>2</td>\n",
       "      <td>2</td>\n",
       "      <td>1</td>\n",
       "      <td>2</td>\n",
       "    </tr>\n",
       "  </tbody>\n",
       "</table>\n",
       "</div>"
      ],
      "text/plain": [
       "   Class  age  menopause  tumor-size  inv-nodes  node-caps  deg-malig  breast  \\\n",
       "0      0    2          3           7          1          2          3       1   \n",
       "1      0    3          3           5          1          2          2       2   \n",
       "2      0    3          3           5          1          2          2       1   \n",
       "3      0    5          2           4          1          2          2       2   \n",
       "4      0    3          3           1          1          2          2       2   \n",
       "5      0    5          2           4          1          2          2       1   \n",
       "6      0    4          3           6          1          2          2       1   \n",
       "7      0    5          2           5          1          2          1       1   \n",
       "8      0    3          3          11          1          2          2       1   \n",
       "9      0    3          3           5          1          2          2       2   \n",
       "\n",
       "   breast-quad  irradiat  \n",
       "0            2         2  \n",
       "1            3         2  \n",
       "2            2         2  \n",
       "3            1         2  \n",
       "4            4         2  \n",
       "5            2         2  \n",
       "6            2         2  \n",
       "7            2         2  \n",
       "8            2         2  \n",
       "9            1         2  "
      ]
     },
     "execution_count": 1,
     "metadata": {},
     "output_type": "execute_result"
    }
   ],
   "source": [
    "import pandas as pd\n",
    "import numpy as np\n",
    "import matplotlib.pyplot as plt\n",
    "import seaborn as sb\n",
    "\n",
    "dataframe = pd.read_csv(\"BreastCancerDataSet_LimpiezaCompletada.csv\",sep=';')\n",
    "dataframe.head(10)"
   ]
  },
  {
   "cell_type": "code",
   "execution_count": 9,
   "id": "572317f8-6c14-4c42-8e3b-8ae83e77b8de",
   "metadata": {},
   "outputs": [
    {
     "data": {
      "image/png": "[encoded data removed]",
      "text/plain": [
       "<Figure size 640x480 with 1 Axes>"
      ]
     },
     "metadata": {},
     "output_type": "display_data"
    }
   ],
   "source": [
    "from sklearn.inspection import DecisionBoundaryDisplay\n",
    "from sklearn.svm import SVC\n",
    "\n",
    "X = dataframe[[\"age\", \"tumor-size\"]].values\n",
    "y = dataframe[\"Class\"].values\n",
    "\n",
    "# Entrenar el modelo SVM\n",
    "svm = SVC(kernel=\"rbf\", gamma=0.5, C=1.0)\n",
    "svm.fit(X, y)\n",
    "\n",
    "# Mostrar la frontera de decisión\n",
    "DecisionBoundaryDisplay.from_estimator(\n",
    "    svm,\n",
    "    X,\n",
    "    response_method=\"predict\",\n",
    "    cmap=plt.cm.Spectral,\n",
    "    alpha=0.8,\n",
    "    xlabel=\"age\",\n",
    "    ylabel=\"tumor-size\",\n",
    ")\n",
    "\n",
    "# Gráfico de dispersión\n",
    "plt.scatter(X[:, 0], X[:, 1], c=y, s=20, edgecolors=\"k\")\n",
    "plt.show()\n"
   ]
  },
  {
   "cell_type": "code",
   "execution_count": 11,
   "id": "96edde6e-b1a0-45f4-9ee3-510150ef77e2",
   "metadata": {},
   "outputs": [
    {
     "name": "stdout",
     "output_type": "stream",
     "text": [
      "Index(['Class', 'age', 'menopause', 'tumor-size', 'inv-nodes', 'node-caps',\n",
      "       'deg-malig', 'breast', 'breast-quad', 'irradiat'],\n",
      "      dtype='object')\n"
     ]
    }
   ],
   "source": [
    "from sklearn.metrics import classification_report, confusion_matrix \n",
    "\n",
    "print(dataframe.keys()) \n"
   ]
  },
  {
   "cell_type": "code",
   "execution_count": 13,
   "id": "dfb7b67e-88e2-43e5-b1db-c845b0ba41c7",
   "metadata": {},
   "outputs": [
    {
     "name": "stdout",
     "output_type": "stream",
     "text": [
      "Feature Variables:\n",
      "<class 'pandas.core.frame.DataFrame'>\n",
      "RangeIndex: 277 entries, 0 to 276\n",
      "Data columns (total 9 columns):\n",
      " #   Column       Non-Null Count  Dtype\n",
      "---  ------       --------------  -----\n",
      " 0   age          277 non-null    int64\n",
      " 1   menopause    277 non-null    int64\n",
      " 2   tumor-size   277 non-null    int64\n",
      " 3   inv-nodes    277 non-null    int64\n",
      " 4   node-caps    277 non-null    int64\n",
      " 5   deg-malig    277 non-null    int64\n",
      " 6   breast       277 non-null    int64\n",
      " 7   breast-quad  277 non-null    int64\n",
      " 8   irradiat     277 non-null    int64\n",
      "dtypes: int64(9)\n",
      "memory usage: 19.6 KB\n",
      "None\n"
     ]
    }
   ],
   "source": [
    "# Separar las variables predictoras\n",
    "df_feat = dataframe.drop(columns=[\"Class\"])\n",
    "\n",
    "# Separar la variable objetivo\n",
    "df_target = dataframe[\"Class\"]\n",
    "\n",
    "# Mostrar la información de las variables\n",
    "print(\"Feature Variables:\") \n",
    "print(df_feat.info())\n"
   ]
  },
  {
   "cell_type": "code",
   "execution_count": 15,
   "id": "c05cc9b4-ac4d-4386-b56d-c6f741853444",
   "metadata": {},
   "outputs": [
    {
     "name": "stdout",
     "output_type": "stream",
     "text": [
      "Dataframe looks like : \n",
      "   age  menopause  tumor-size  inv-nodes  node-caps  deg-malig  breast  \\\n",
      "0    2          3           7          1          2          3       1   \n",
      "1    3          3           5          1          2          2       2   \n",
      "2    3          3           5          1          2          2       1   \n",
      "3    5          2           4          1          2          2       2   \n",
      "4    3          3           1          1          2          2       2   \n",
      "\n",
      "   breast-quad  irradiat  \n",
      "0            2         2  \n",
      "1            3         2  \n",
      "2            2         2  \n",
      "3            1         2  \n",
      "4            4         2  \n"
     ]
    }
   ],
   "source": [
    "print(\"Dataframe looks like : \") \n",
    "print(df_feat.head()) "
   ]
  },
  {
   "cell_type": "code",
   "execution_count": 17,
   "id": "5876c1f8-8325-4f3a-a9e7-5d0b0460da05",
   "metadata": {},
   "outputs": [],
   "source": [
    "from sklearn.model_selection import train_test_split \n",
    "  \n",
    "X_train, X_test, y_train, y_test = train_test_split( \n",
    "                        df_feat, np.ravel(df_target), \n",
    "                test_size = 0.30, random_state = 101) "
   ]
  },
  {
   "cell_type": "code",
   "execution_count": 19,
   "id": "4a33449b-d0de-41a0-abed-0a445abff0ca",
   "metadata": {},
   "outputs": [
    {
     "name": "stdout",
     "output_type": "stream",
     "text": [
      "              precision    recall  f1-score   support\n",
      "\n",
      "           0       0.64      1.00      0.78        53\n",
      "           1       1.00      0.03      0.06        31\n",
      "\n",
      "    accuracy                           0.64        84\n",
      "   macro avg       0.82      0.52      0.42        84\n",
      "weighted avg       0.77      0.64      0.51        84\n",
      "\n"
     ]
    }
   ],
   "source": [
    "model = SVC() \n",
    "model.fit(X_train, y_train) \n",
    "  \n",
    "# print prediction results \n",
    "predictions = model.predict(X_test) \n",
    "print(classification_report(y_test, predictions)) "
   ]
  },
  {
   "cell_type": "code",
   "execution_count": 29,
   "id": "b2081a89-254b-41cf-a5fd-f714193c8d22",
   "metadata": {},
   "outputs": [
    {
     "name": "stdout",
     "output_type": "stream",
     "text": [
      "[0]\n"
     ]
    },
    {
     "name": "stderr",
     "output_type": "stream",
     "text": [
      "C:\\Users\\LENOVO\\anaconda3\\Lib\\site-packages\\sklearn\\base.py:493: UserWarning: X does not have valid feature names, but SVC was fitted with feature names\n",
      "  warnings.warn(\n"
     ]
    }
   ],
   "source": [
    "print(model.predict([[2,3,6,1,2,3,1,1,2]]))"
   ]
  },
  {
   "cell_type": "code",
   "execution_count": null,
   "id": "cee572e8-8360-4e77-b540-070e8d420d7b",
   "metadata": {},
   "outputs": [],
   "source": [
    "#Corregimos la advertencia\n",
    "print(knn_mm.predict(pd.DataFrame([[2,3,6,1,2,3,1,1,2]], columns=x.columns)))\n",
    "print(knn_mm.predict_proba(pd.DataFrame([[2,3,6,1,2,3,1,1,2]], columns=x.columns)))"
   ]
  }
 ],
 "metadata": {
  "kernelspec": {
   "display_name": "Python [conda env:base] *",
   "language": "python",
   "name": "conda-base-py"
  },
  "language_info": {
   "codemirror_mode": {
    "name": "ipython",
    "version": 3
   },
   "file_extension": ".py",
   "mimetype": "text/x-python",
   "name": "python",
   "nbconvert_exporter": "python",
   "pygments_lexer": "ipython3",
   "version": "3.12.7"
  }
 },
 "nbformat": 4,
 "nbformat_minor": 5
}
