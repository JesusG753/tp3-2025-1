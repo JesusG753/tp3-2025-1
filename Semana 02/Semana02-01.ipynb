{
 "cells": [
  {
   "cell_type": "markdown",
   "id": "e364e80b-c44a-427d-a51b-2071d00290ab",
   "metadata": {},
   "source": [
    "# Semana02\n",
    "Lopez Rodrigues Jesus Inocencio"
   ]
  },
  {
   "cell_type": "markdown",
   "id": "3c08e1a2-fe28-4f3f-88d6-56caa701ba8a",
   "metadata": {},
   "source": [
    "# Temas\n",
    "\n",
    "1. Coleccion de datos\n",
    "2. Estructuras Decisivas y Estructuras Repetitivas\n",
    "3. Clases y Objetivos\n",
    "4. Funciones"
   ]
  },
  {
   "cell_type": "code",
   "execution_count": 3,
   "id": "949d8ad4-ee77-4f03-9158-b2647dd8ebb3",
   "metadata": {},
   "outputs": [],
   "source": [
    "# 1. Colecciones de datos"
   ]
  },
  {
   "cell_type": "code",
   "execution_count": 5,
   "id": "43a09908-2b37-4e5c-8552-9eb8d7592d54",
   "metadata": {},
   "outputs": [
    {
     "name": "stdout",
     "output_type": "stream",
     "text": [
      "['Bernaola', 'Chipana', 'Gomez', 'Navarro']\n"
     ]
    }
   ],
   "source": [
    "# 1.1. Listas\n",
    "# Es una colección de elementos que puede ser ordenada, modificada, etc...\n",
    "# Se identifica por los corcehetes\n",
    "# Ejemplo:\n",
    "aula = ['Bernaola','Chipana','Gomez','Navarro']\n",
    "print(aula)"
   ]
  },
  {
   "cell_type": "code",
   "execution_count": 7,
   "id": "7890ff29-60f7-47f6-9493-a28bec4bb3df",
   "metadata": {},
   "outputs": [
    {
     "data": {
      "text/plain": [
       "['Bernaola', 'Chipana', 'Gomez', 'Navarro']"
      ]
     },
     "execution_count": 7,
     "metadata": {},
     "output_type": "execute_result"
    }
   ],
   "source": [
    "# Tambien se puede imprimir con solo mencionar la lista\n",
    "aula"
   ]
  },
  {
   "cell_type": "code",
   "execution_count": 9,
   "id": "cce8c41a-6abb-4b50-ab45-744704c19659",
   "metadata": {},
   "outputs": [
    {
     "name": "stdout",
     "output_type": "stream",
     "text": [
      "Bernaola\n",
      "Chipana\n"
     ]
    }
   ],
   "source": [
    "# Podemos extraer cada elemento por su posición\n",
    "print(aula[0])\n",
    "print(aula[1])"
   ]
  },
  {
   "cell_type": "code",
   "execution_count": 11,
   "id": "9f1e1c3a-5bfa-4e3f-9f5f-6d4f35970b29",
   "metadata": {},
   "outputs": [
    {
     "data": {
      "text/plain": [
       "'Chavez'"
      ]
     },
     "execution_count": 11,
     "metadata": {},
     "output_type": "execute_result"
    }
   ],
   "source": [
    "# Puedo asignar un valor a una posición de la lista\n",
    "aula[1] = 'Chavez'\n",
    "aula[1]"
   ]
  },
  {
   "cell_type": "code",
   "execution_count": 13,
   "id": "29523d9b-2c58-4c3e-ad8b-dfc2290f50de",
   "metadata": {},
   "outputs": [
    {
     "data": {
      "text/plain": [
       "['Bernaola', 'Chavez', 'Gomez', 'Navarro']"
      ]
     },
     "execution_count": 13,
     "metadata": {},
     "output_type": "execute_result"
    }
   ],
   "source": [
    "# Mostramos como quedó la lista\n",
    "aula"
   ]
  },
  {
   "cell_type": "code",
   "execution_count": 15,
   "id": "522d5730-1d9e-45bb-9e9a-a9f4691420c6",
   "metadata": {},
   "outputs": [
    {
     "data": {
      "text/plain": [
       "['Bernaola', 'Chavez', 'Gomez', 'Navarro', 'Hermitaño', 'Gomez']"
      ]
     },
     "execution_count": 15,
     "metadata": {},
     "output_type": "execute_result"
    }
   ],
   "source": [
    "# Para agregar un elemento utilizamos append\n",
    "aula.append(\"Hermitaño\")\n",
    "aula.append(\"Gomez\")\n",
    "aula"
   ]
  },
  {
   "cell_type": "code",
   "execution_count": 17,
   "id": "1879b3cb-d025-45cd-9f78-1370f5855ee3",
   "metadata": {},
   "outputs": [
    {
     "data": {
      "text/plain": [
       "['Chavez', 'Gomez', 'Navarro', 'Hermitaño', 'Gomez']"
      ]
     },
     "execution_count": 17,
     "metadata": {},
     "output_type": "execute_result"
    }
   ],
   "source": [
    "# Para eliminar elementos utilizamos remove[]\n",
    "aula.remove(\"Bernaola\")\n",
    "aula"
   ]
  },
  {
   "cell_type": "code",
   "execution_count": null,
   "id": "1e8e5dab-6742-47e6-8e98-9ef301ff7aae",
   "metadata": {},
   "outputs": [],
   "source": []
  }
 ],
 "metadata": {
  "kernelspec": {
   "display_name": "Python [conda env:base] *",
   "language": "python",
   "name": "conda-base-py"
  },
  "language_info": {
   "codemirror_mode": {
    "name": "ipython",
    "version": 3
   },
   "file_extension": ".py",
   "mimetype": "text/x-python",
   "name": "python",
   "nbconvert_exporter": "python",
   "pygments_lexer": "ipython3",
   "version": "3.12.7"
  }
 },
 "nbformat": 4,
 "nbformat_minor": 5
}
